{
 "cells": [
  {
   "cell_type": "markdown",
   "metadata": {},
   "source": [
    "# Project Euler problem 53\n",
    "## Erik Baalbergen\n",
    "\n",
    "\n",
    "### Problem\n",
    "There are exactly ten ways of selecting three from five, 12345:\n",
    "\n",
    "123, 124, 125, 134, 135, 145, 234, 235, 245, and 345\n",
    "\n",
    "In combinatorics, we use the notation, ${}^5C_3$=10.\n",
    "\n",
    "In general, ${}^nC_r=\\frac{n!}{r!(n−r)!}$\n",
    ", where $r≤n$, $n!=n×(n−1)×...×3×2×1$, and $0!=1$.\n",
    "\n",
    "It is not until $n=23$\n",
    ", that a value exceeds one-million: ${}^{23}C_{10}=1144066$.\n",
    "\n",
    "How many, not necessarily distinct, values of nCr\n",
    "for $1≤n≤100$, are greater than one-million?"
   ]
  },
  {
   "cell_type": "code",
   "execution_count": 2,
   "metadata": {},
   "outputs": [],
   "source": [
    "import numpy as np\n",
    "import scipy as sc\n",
    "import math\n",
    "\n"
   ]
  },
  {
   "cell_type": "code",
   "execution_count": 3,
   "metadata": {},
   "outputs": [],
   "source": [
    "def binomium(n, r):\n",
    "    return math.factorial(n) / (math.factorial(r)*math.factorial(n-r))"
   ]
  },
  {
   "cell_type": "code",
   "execution_count": 63,
   "metadata": {},
   "outputs": [],
   "source": [
    "numbers = np.arange(22,101)\n",
    "\n",
    "count = 0\n",
    "\n",
    "for number in numbers:\n",
    "    start = int(np.floor(number / 2)) + 1\n",
    "    if int(number % 2 == 0) and binomium(number, start ) > 1e6:\n",
    "        count += 1\n",
    "    for i in range(start, number):\n",
    "        if binomium(number, i) > 1e6:\n",
    "            count += 2\n",
    "        else:\n",
    "            break\n"
   ]
  },
  {
   "cell_type": "code",
   "execution_count": 64,
   "metadata": {},
   "outputs": [
    {
     "name": "stdout",
     "output_type": "stream",
     "text": [
      "4075\n"
     ]
    }
   ],
   "source": [
    "print(count)"
   ]
  },
  {
   "cell_type": "code",
   "execution_count": 29,
   "metadata": {},
   "outputs": [
    {
     "name": "stdout",
     "output_type": "stream",
     "text": [
      "4075\n"
     ]
    }
   ],
   "source": [
    "number = 0\n",
    "\n",
    "for i in range(1,101):\n",
    "    for j in range(1,i):\n",
    "        if binomium(i,j) > 1e6:\n",
    "            number += 1\n",
    "            \n",
    "print(number)"
   ]
  },
  {
   "cell_type": "code",
   "execution_count": null,
   "metadata": {},
   "outputs": [],
   "source": []
  }
 ],
 "metadata": {
  "kernelspec": {
   "display_name": "Python 3",
   "language": "python",
   "name": "python3"
  },
  "language_info": {
   "codemirror_mode": {
    "name": "ipython",
    "version": 3
   },
   "file_extension": ".py",
   "mimetype": "text/x-python",
   "name": "python",
   "nbconvert_exporter": "python",
   "pygments_lexer": "ipython3",
   "version": "3.7.2"
  }
 },
 "nbformat": 4,
 "nbformat_minor": 2
}
